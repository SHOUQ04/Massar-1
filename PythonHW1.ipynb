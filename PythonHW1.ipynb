{
  "nbformat": 4,
  "nbformat_minor": 0,
  "metadata": {
    "colab": {
      "provenance": [],
      "authorship_tag": "ABX9TyOKIGw8YR5FKYOVdMJdW7L+",
      "include_colab_link": true
    },
    "kernelspec": {
      "name": "python3",
      "display_name": "Python 3"
    },
    "language_info": {
      "name": "python"
    }
  },
  "cells": [
    {
      "cell_type": "markdown",
      "metadata": {
        "id": "view-in-github",
        "colab_type": "text"
      },
      "source": [
        "<a href=\"https://colab.research.google.com/github/SHOUQ04/Massar-1/blob/main/PythonHW1.ipynb\" target=\"_parent\"><img src=\"https://colab.research.google.com/assets/colab-badge.svg\" alt=\"Open In Colab\"/></a>"
      ]
    },
    {
      "source": [
        "from IPython.display import clear_output  # علق معي وماضبط الا لما استدعيت ذي\n",
        "name =\"Shouq\"\n",
        "age=\"20\"\n",
        "print(\"My Name Is:\",name,\"and my age is:\",age,\" And this course i hope to learn more about data anaylisis to become an expert!\")\n",
        "\n"
      ],
      "cell_type": "code",
      "metadata": {
        "colab": {
          "base_uri": "https://localhost:8080/"
        },
        "id": "amqNAa6ZjiMz",
        "outputId": "918b5b10-041d-4ed6-ca81-5eefab6a83e8"
      },
      "execution_count": 11,
      "outputs": [
        {
          "output_type": "stream",
          "name": "stdout",
          "text": [
            "My Name Is: Shouq and my age is: 20  And this course i hope to learn more about data anaylisis to become an expert!\n"
          ]
        }
      ]
    }
  ]
}